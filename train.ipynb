{
 "cells": [
  {
   "cell_type": "code",
   "execution_count": 1,
   "metadata": {},
   "outputs": [],
   "source": [
    "import torch\n",
    "import torch.nn as nn\n",
    "import torch.nn.functional as F\n",
    "import seaborn as sns\n",
    "\n",
    "import os\n",
    "\n",
    "import numpy as np\n",
    "import matplotlib.pyplot as plt\n",
    "from tqdm import tqdm\n",
    "\n",
    "from torch.cuda.amp import autocast, GradScaler\n",
    "\n",
    "import pandas as pd\n",
    "from torch import nn, optim\n",
    "\n",
    "from sklearn.metrics import confusion_matrix"
   ]
  },
  {
   "cell_type": "code",
   "execution_count": 2,
   "metadata": {},
   "outputs": [],
   "source": [
    "#from ConvNet import ConvNet"
   ]
  },
  {
   "cell_type": "code",
   "execution_count": 3,
   "metadata": {},
   "outputs": [],
   "source": [
    "class_names = ('N', 'A', 'L', 'R', 'V')"
   ]
  },
  {
   "cell_type": "code",
   "execution_count": 4,
   "metadata": {},
   "outputs": [],
   "source": [
    "train_pth = 'sh_dataset\\\\train\\\\'\n",
    "\n",
    "val_pth = 'sh_dataset\\\\validation\\\\'\n",
    "\n",
    "MODEL_PATH = 'models\\\\model.pth'\n",
    "\n",
    "model_name = 'small_model'\n",
    "\n",
    "DIR = 'models\\\\small_model\\\\'"
   ]
  },
  {
   "cell_type": "code",
   "execution_count": 5,
   "metadata": {},
   "outputs": [],
   "source": [
    "class DatasetECG(torch.utils.data.Dataset):\n",
    "    def __init__(self, path_dir:str):\n",
    "        super().__init__()\n",
    "        \n",
    "        self.path_dir = path_dir\n",
    "        \n",
    "        self.dir_list = sorted(os.listdir(path_dir))        \n",
    "\n",
    "        print(len(self.dir_list))\n",
    "\n",
    "        \n",
    "    def __len__(self):\n",
    "        return len(self.dir_list)\n",
    "    \n",
    "    def __getitem__(self, idx):\n",
    "\n",
    "        class_id = self.dir_list[idx][0] \n",
    "\n",
    "        if class_id == 'N':\n",
    "            class_id = 0\n",
    "            img_path = os.path.join(self.path_dir, self.dir_list[idx])\n",
    "\n",
    "        elif class_id == 'A':\n",
    "            class_id = 1\n",
    "            img_path = os.path.join(self.path_dir, self.dir_list[idx])\n",
    "\n",
    "        elif class_id == 'L':\n",
    "            class_id = 2\n",
    "            img_path = os.path.join(self.path_dir, self.dir_list[idx])\n",
    "        \n",
    "        elif class_id == 'R':\n",
    "            class_id = 3\n",
    "            img_path = os.path.join(self.path_dir, self.dir_list[idx])\n",
    "\n",
    "        elif class_id == 'V':\n",
    "            class_id = 4\n",
    "            img_path = os.path.join(self.path_dir, self.dir_list[idx])\n",
    "        \n",
    "        img = np.load(img_path)\n",
    "\n",
    "        t_img = torch.from_numpy(img)\n",
    "        t_class_id = torch.tensor(class_id)\n",
    "        \n",
    "        return t_img, t_class_id"
   ]
  },
  {
   "cell_type": "code",
   "execution_count": 6,
   "metadata": {},
   "outputs": [
    {
     "name": "stdout",
     "output_type": "stream",
     "text": [
      "7500\n",
      "1250\n"
     ]
    }
   ],
   "source": [
    "train_ds_ecg = DatasetECG(train_pth)\n",
    "val_ds_ecg = DatasetECG(val_pth)"
   ]
  },
  {
   "cell_type": "code",
   "execution_count": 7,
   "metadata": {},
   "outputs": [
    {
     "name": "stdout",
     "output_type": "stream",
     "text": [
      "468 78\n"
     ]
    }
   ],
   "source": [
    "batch_size = 16\n",
    "\n",
    "train_loader = torch.utils.data.DataLoader(\n",
    "    train_ds_ecg, shuffle=True, \n",
    "    batch_size=batch_size, drop_last=True\n",
    ")\n",
    "\n",
    "val_loader = torch.utils.data.DataLoader(\n",
    "    val_ds_ecg, shuffle=True,\n",
    "    batch_size=batch_size, drop_last=True\n",
    ")\n",
    "\n",
    "print(len(train_loader), len(val_loader))"
   ]
  },
  {
   "cell_type": "code",
   "execution_count": 8,
   "metadata": {},
   "outputs": [],
   "source": [
    "class ConvNet(nn.Module):\n",
    "    def __init__(self):\n",
    "        super().__init__()\n",
    "        \n",
    "#        self.act = nn.ReLU()\n",
    "#        self.maxpool = nn.MaxPool2d(2, 2)\n",
    "#        self.conv0 = nn.Conv2d(1, 16, 5, stride=1, padding=0)#1 16 3\n",
    "#        self.conv1 = nn.Conv2d(16, 32, 5, stride=1, padding=0)#16 32 3\n",
    "#        self.conv2 = nn.Conv2d(32, 64, 3, stride=1, padding=0)\n",
    "#        self.conv3 = nn.Conv2d(64, 128, 3, stride=1, padding=0)\n",
    "#\n",
    "#        #self.linear0 = nn.Linear(128*12*12, 512)\n",
    "#        self.linear0 = nn.Linear(128*11*11, 512)        \n",
    "#        self.linear1 = nn.Linear(512, 128)\n",
    "#        self.linear2 = nn.Linear(128, 5)\n",
    "\n",
    "        self.act = nn.ReLU()\n",
    "        self.maxpool = nn.MaxPool2d(2, 2)\n",
    "        self.conv0 = nn.Conv2d(1, 2, 5, stride=1, padding=0)#1 16 3\n",
    "        self.conv1 = nn.Conv2d(2, 4, 5, stride=1, padding=0)#16 32 3\n",
    "        self.conv2 = nn.Conv2d(4, 7, 3, stride=1, padding=0)\n",
    "        self.conv3 = nn.Conv2d(7, 13, 3, stride=1, padding=0)\n",
    "\n",
    "        self.linear0 = nn.Linear(1573, 52)        \n",
    "        self.linear1 = nn.Linear(52, 13)\n",
    "        self.linear2 = nn.Linear(13, 5)\n",
    "        \n",
    "        \n",
    "    def forward(self, x):\n",
    "#        print(x.shape)\n",
    "        out = self.conv0(x)\n",
    "        out = self.act(out)\n",
    "#        print(out.shape)\n",
    "        out = self.maxpool(out)\n",
    "#        print(out.shape)\n",
    "        out = self.conv1(out)\n",
    "        out = self.act(out)\n",
    "#        print(out.shape)\n",
    "        out = self.maxpool(out)\n",
    "#        print(out.shape)\n",
    "        out = self.conv2(out)\n",
    "        out = self.act(out)\n",
    "#        print(out.shape)\n",
    "        out = self.maxpool(out)\n",
    "#        print(out.shape)\n",
    "        out = self.conv3(out)\n",
    "#        print(out.shape)\n",
    "        out = self.act(out)\n",
    "#        print(out.shape) \n",
    "        out = torch.flatten(out, 1)\n",
    "#        print(out.shape) \n",
    "        out = self.linear0(out)\n",
    "        out = self.act(out)\n",
    "#        print(out.shape) \n",
    "        out = self.linear1(out)\n",
    "        out = self.act(out)\n",
    "#        print(out.shape) \n",
    "        out = self.linear2(out)\n",
    "#        print(out.shape) \n",
    "        return out"
   ]
  },
  {
   "cell_type": "code",
   "execution_count": 9,
   "metadata": {},
   "outputs": [
    {
     "data": {
      "text/plain": [
       "ConvNet(\n",
       "  (act): ReLU()\n",
       "  (maxpool): MaxPool2d(kernel_size=2, stride=2, padding=0, dilation=1, ceil_mode=False)\n",
       "  (conv0): Conv2d(1, 2, kernel_size=(5, 5), stride=(1, 1))\n",
       "  (conv1): Conv2d(2, 4, kernel_size=(5, 5), stride=(1, 1))\n",
       "  (conv2): Conv2d(4, 7, kernel_size=(3, 3), stride=(1, 1))\n",
       "  (conv3): Conv2d(7, 13, kernel_size=(3, 3), stride=(1, 1))\n",
       "  (linear0): Linear(in_features=1573, out_features=52, bias=True)\n",
       "  (linear1): Linear(in_features=52, out_features=13, bias=True)\n",
       "  (linear2): Linear(in_features=13, out_features=5, bias=True)\n",
       ")"
      ]
     },
     "execution_count": 9,
     "metadata": {},
     "output_type": "execute_result"
    }
   ],
   "source": [
    "model = ConvNet()\n",
    "model"
   ]
  },
  {
   "cell_type": "code",
   "execution_count": 10,
   "metadata": {},
   "outputs": [],
   "source": [
    "#model = torch.load(MODEL_PATH)"
   ]
  },
  {
   "cell_type": "code",
   "execution_count": 11,
   "metadata": {},
   "outputs": [
    {
     "data": {
      "text/plain": [
       "83954"
      ]
     },
     "execution_count": 11,
     "metadata": {},
     "output_type": "execute_result"
    }
   ],
   "source": [
    "def count_parameters(model):\n",
    "    return sum(p.numel() for p in model.parameters() if p.requires_grad)\n",
    "\n",
    "count_parameters(model)"
   ]
  },
  {
   "cell_type": "code",
   "execution_count": 12,
   "metadata": {},
   "outputs": [],
   "source": [
    "loss_fn=nn.CrossEntropyLoss()\n",
    "optimizer=optim.SGD(model.parameters(),lr=0.001,momentum=0.9)\n",
    "\n",
    "epochs = 6"
   ]
  },
  {
   "cell_type": "code",
   "execution_count": 13,
   "metadata": {},
   "outputs": [
    {
     "name": "stdout",
     "output_type": "stream",
     "text": [
      "cuda\n"
     ]
    }
   ],
   "source": [
    "device = 'cuda' # if torch.cuda.is_available() else 'cpu'\n",
    "model = model.to(device)\n",
    "loss_fn = loss_fn.to(device)\n",
    "\n",
    "use_amp = True\n",
    "scaler = torch.cuda.amp.GradScaler()\n",
    "torch.backends.cudnn.benchmark = True\n",
    "torch.backends.cudnn.deterministic = False\n",
    "\n",
    "print(device)"
   ]
  },
  {
   "cell_type": "code",
   "execution_count": 14,
   "metadata": {},
   "outputs": [],
   "source": [
    "train_losses=[]\n",
    "train_accu=[]\n",
    "\n",
    "eval_losses=[]\n",
    "eval_accu=[]"
   ]
  },
  {
   "cell_type": "code",
   "execution_count": 15,
   "metadata": {},
   "outputs": [],
   "source": [
    "def train(epoch):\n",
    "  print('\\nEpoch : %d'%epoch)\n",
    "  \n",
    "  model.train()\n",
    "\n",
    "  running_loss=0\n",
    "  correct=0\n",
    "  total=0\n",
    "\n",
    "  for data in tqdm(train_loader):\n",
    "    inputs = data[0].to(device, non_blocking=True)\n",
    "    labels=data[1].to(device, non_blocking=True)\n",
    "\n",
    "    outputs=model(inputs)\n",
    "\n",
    "    loss=loss_fn(outputs,labels)\n",
    "\n",
    "    #Replaces pow(2.0) with abs() for L1 regularization\n",
    "\n",
    "    l2_lambda = 0.001\n",
    "    l2_norm = sum(p.pow(2.0).sum()\n",
    "                  for p in model.parameters())\n",
    "\n",
    "    loss = loss + l2_lambda * l2_norm\n",
    "\n",
    "    optimizer.zero_grad()\n",
    "    loss.backward()\n",
    "    optimizer.step()\n",
    "\n",
    "    running_loss += loss.item()\n",
    "\n",
    "    _, predicted = outputs.max(1)\n",
    "    total += labels.size(0)\n",
    "    correct += predicted.eq(labels).sum().item()\n",
    "\n",
    "      \n",
    "  train_loss=running_loss/len(train_loader)\n",
    "  accu=100.*correct/total\n",
    "  \n",
    "  train_accu.append(accu)\n",
    "  train_losses.append(train_loss)\n",
    "  print('Train Loss: %.3f | Accuracy: %.3f'%(train_loss,accu))"
   ]
  },
  {
   "cell_type": "code",
   "execution_count": 16,
   "metadata": {},
   "outputs": [],
   "source": [
    "def test(epoch):\n",
    "  model.eval()\n",
    "\n",
    "  running_loss=0\n",
    "  correct=0\n",
    "  total=0\n",
    "\n",
    "  with torch.no_grad():\n",
    "\n",
    "    for data in tqdm(val_loader):\n",
    "      images,labels=data[0].to(device, non_blocking=True),data[1].to(device, non_blocking=True)\n",
    "\n",
    "      outputs=model(images)\n",
    "\n",
    "      loss= loss_fn(outputs,labels)\n",
    "      running_loss+=loss.item()\n",
    "\n",
    "      _, predicted = outputs.max(1)\n",
    "      total += labels.size(0)\n",
    "      correct += predicted.eq(labels).sum().item()\n",
    "\n",
    "\n",
    "  test_loss=running_loss/len(val_loader)\n",
    "  accu=100.*correct/total\n",
    "\n",
    "  eval_losses.append(test_loss)\n",
    "  eval_accu.append(accu)\n",
    "  \n",
    "  print('Test Loss: %.3f | Accuracy: %.3f'%(test_loss,accu)) \n",
    "\n",
    "  #return accu"
   ]
  },
  {
   "cell_type": "code",
   "execution_count": 17,
   "metadata": {},
   "outputs": [
    {
     "name": "stdout",
     "output_type": "stream",
     "text": [
      "\n",
      "Epoch : 1\n"
     ]
    },
    {
     "name": "stderr",
     "output_type": "stream",
     "text": [
      "100%|██████████| 468/468 [00:12<00:00, 38.60it/s]\n"
     ]
    },
    {
     "name": "stdout",
     "output_type": "stream",
     "text": [
      "Train Loss: 1.643 | Accuracy: 22.329\n"
     ]
    },
    {
     "name": "stderr",
     "output_type": "stream",
     "text": [
      "100%|██████████| 78/78 [00:00<00:00, 87.95it/s]\n"
     ]
    },
    {
     "name": "stdout",
     "output_type": "stream",
     "text": [
      "Test Loss: 1.585 | Accuracy: 37.500\n",
      "\n",
      "Epoch : 2\n"
     ]
    },
    {
     "name": "stderr",
     "output_type": "stream",
     "text": [
      "100%|██████████| 468/468 [00:08<00:00, 55.13it/s]\n"
     ]
    },
    {
     "name": "stdout",
     "output_type": "stream",
     "text": [
      "Train Loss: 0.816 | Accuracy: 73.918\n"
     ]
    },
    {
     "name": "stderr",
     "output_type": "stream",
     "text": [
      "100%|██████████| 78/78 [00:00<00:00, 78.42it/s]\n"
     ]
    },
    {
     "name": "stdout",
     "output_type": "stream",
     "text": [
      "Test Loss: 0.320 | Accuracy: 91.506\n",
      "\n",
      "Epoch : 3\n"
     ]
    },
    {
     "name": "stderr",
     "output_type": "stream",
     "text": [
      "100%|██████████| 468/468 [00:08<00:00, 57.52it/s]\n"
     ]
    },
    {
     "name": "stdout",
     "output_type": "stream",
     "text": [
      "Train Loss: 0.238 | Accuracy: 93.670\n"
     ]
    },
    {
     "name": "stderr",
     "output_type": "stream",
     "text": [
      "100%|██████████| 78/78 [00:00<00:00, 86.20it/s]\n"
     ]
    },
    {
     "name": "stdout",
     "output_type": "stream",
     "text": [
      "Test Loss: 0.158 | Accuracy: 95.272\n",
      "\n",
      "Epoch : 4\n"
     ]
    },
    {
     "name": "stderr",
     "output_type": "stream",
     "text": [
      "100%|██████████| 468/468 [00:08<00:00, 57.62it/s]\n"
     ]
    },
    {
     "name": "stdout",
     "output_type": "stream",
     "text": [
      "Train Loss: 0.159 | Accuracy: 96.488\n"
     ]
    },
    {
     "name": "stderr",
     "output_type": "stream",
     "text": [
      "100%|██████████| 78/78 [00:01<00:00, 68.46it/s]\n"
     ]
    },
    {
     "name": "stdout",
     "output_type": "stream",
     "text": [
      "Test Loss: 0.104 | Accuracy: 96.715\n",
      "\n",
      "Epoch : 5\n"
     ]
    },
    {
     "name": "stderr",
     "output_type": "stream",
     "text": [
      "100%|██████████| 468/468 [00:07<00:00, 59.42it/s]\n"
     ]
    },
    {
     "name": "stdout",
     "output_type": "stream",
     "text": [
      "Train Loss: 0.128 | Accuracy: 97.409\n"
     ]
    },
    {
     "name": "stderr",
     "output_type": "stream",
     "text": [
      "100%|██████████| 78/78 [00:01<00:00, 67.21it/s]\n"
     ]
    },
    {
     "name": "stdout",
     "output_type": "stream",
     "text": [
      "Test Loss: 0.108 | Accuracy: 97.436\n",
      "\n",
      "Epoch : 6\n"
     ]
    },
    {
     "name": "stderr",
     "output_type": "stream",
     "text": [
      "100%|██████████| 468/468 [00:07<00:00, 64.00it/s]\n"
     ]
    },
    {
     "name": "stdout",
     "output_type": "stream",
     "text": [
      "Train Loss: 0.109 | Accuracy: 98.024\n"
     ]
    },
    {
     "name": "stderr",
     "output_type": "stream",
     "text": [
      "100%|██████████| 78/78 [00:00<00:00, 103.31it/s]"
     ]
    },
    {
     "name": "stdout",
     "output_type": "stream",
     "text": [
      "Test Loss: 0.090 | Accuracy: 97.676\n"
     ]
    },
    {
     "name": "stderr",
     "output_type": "stream",
     "text": [
      "\n"
     ]
    }
   ],
   "source": [
    "max_accuracy = 0\n",
    "\n",
    "for epoch in range(1,epochs+1): \n",
    "  D_MOD_PTH = DIR + 'd_' + model_name  + str(epoch) + '.pth'\n",
    "  MOD_PTH = DIR + model_name + str(epoch) + '.pth'\n",
    "  train(epoch)\n",
    "  test(epoch)\n",
    "  acc_ep = eval_accu[-1]\n",
    "\n",
    "  if acc_ep > max_accuracy:\n",
    "    max_accuracy = acc_ep    \n",
    "    torch.save(model, MOD_PTH)\n",
    "    torch.save(model.state_dict(), D_MOD_PTH)\n"
   ]
  },
  {
   "cell_type": "code",
   "execution_count": 18,
   "metadata": {},
   "outputs": [],
   "source": [
    "np.save(DIR + model_name + '_train_losses', train_losses)\n",
    "np.save(DIR + model_name + '_eval_losses', eval_losses)\n",
    "np.save(DIR + model_name + '_train_accu', train_accu)\n",
    "np.save(DIR + model_name + '_eval_accu', eval_accu)"
   ]
  },
  {
   "cell_type": "code",
   "execution_count": 19,
   "metadata": {},
   "outputs": [
    {
     "data": {
      "image/png": "[encoded data removed]",
      "text/plain": [
       "<Figure size 640x480 with 1 Axes>"
      ]
     },
     "metadata": {},
     "output_type": "display_data"
    }
   ],
   "source": [
    "#plot accuracy\n",
    "\n",
    "plt.plot(train_accu,'-o')\n",
    "plt.plot(eval_accu,'-o')\n",
    "plt.xlabel('epoch')\n",
    "plt.ylabel('accuracy')\n",
    "plt.legend(['Train','Valid'])\n",
    "plt.title('Train vs Valid Accuracy')\n",
    "\n",
    "plt.show()"
   ]
  },
  {
   "cell_type": "code",
   "execution_count": 23,
   "metadata": {},
   "outputs": [
    {
     "data": {
      "text/plain": [
       "[37.5,\n",
       " 91.50641025641026,\n",
       " 95.2724358974359,\n",
       " 96.71474358974359,\n",
       " 97.43589743589743,\n",
       " 97.67628205128206]"
      ]
     },
     "execution_count": 23,
     "metadata": {},
     "output_type": "execute_result"
    }
   ],
   "source": [
    "eval_accu"
   ]
  },
  {
   "cell_type": "code",
   "execution_count": 20,
   "metadata": {},
   "outputs": [
    {
     "data": {
      "image/png": "[encoded data removed]",
      "text/plain": [
       "<Figure size 640x480 with 1 Axes>"
      ]
     },
     "metadata": {},
     "output_type": "display_data"
    }
   ],
   "source": [
    "#plot losses\n",
    "\n",
    "plt.plot(train_losses,'-o')\n",
    "plt.plot(eval_losses,'-o')\n",
    "plt.xlabel('epoch')\n",
    "plt.ylabel('losses')\n",
    "plt.legend(['Train','Valid'])\n",
    "plt.title('Train vs Valid Losses')\n",
    "\n",
    "plt.show()"
   ]
  },
  {
   "cell_type": "code",
   "execution_count": 21,
   "metadata": {},
   "outputs": [],
   "source": [
    "torch.save(model, MODEL_PATH)\n",
    "torch.save(model.state_dict(), MODEL_PATH)"
   ]
  },
  {
   "cell_type": "code",
   "execution_count": 22,
   "metadata": {},
   "outputs": [],
   "source": [
    "#torch.save(model.state_dict(), 'd_' + MODEL_PATH)\n",
    "#model.load_state_dict(torch.load('d_' + MODEL_PATH))"
   ]
  }
 ],
 "metadata": {
  "kernelspec": {
   "display_name": "env",
   "language": "python",
   "name": "python3"
  },
  "language_info": {
   "codemirror_mode": {
    "name": "ipython",
    "version": 3
   },
   "file_extension": ".py",
   "mimetype": "text/x-python",
   "name": "python",
   "nbconvert_exporter": "python",
   "pygments_lexer": "ipython3",
   "version": "3.9.5"
  },
  "orig_nbformat": 4
 },
 "nbformat": 4,
 "nbformat_minor": 2
}
