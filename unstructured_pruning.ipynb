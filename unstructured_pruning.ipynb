{
 "cells": [
  {
   "cell_type": "code",
   "execution_count": 1,
   "metadata": {},
   "outputs": [],
   "source": [
    "import torch\n",
    "import torch.nn as nn\n",
    "import torch.nn.functional as F\n",
    "import torch.nn.utils.prune as prune\n",
    "import seaborn as sns\n",
    "\n",
    "import os\n",
    "\n",
    "import numpy as np\n",
    "import matplotlib.pyplot as plt\n",
    "from tqdm import tqdm\n",
    "from torch.cuda.amp import autocast, GradScaler\n",
    "\n",
    "import pandas as pd\n",
    "from torch import nn, optim\n",
    "\n",
    "from sklearn.metrics import confusion_matrix"
   ]
  },
  {
   "cell_type": "code",
   "execution_count": 2,
   "metadata": {},
   "outputs": [],
   "source": [
    "from ConvNet import ConvNet\n",
    "from DatasetEcg import DatasetECG"
   ]
  },
  {
   "cell_type": "code",
   "execution_count": 3,
   "metadata": {},
   "outputs": [
    {
     "name": "stdout",
     "output_type": "stream",
     "text": [
      "7500\n",
      "1250\n"
     ]
    }
   ],
   "source": [
    "train_pth = 'sh_dataset\\\\train\\\\'\n",
    "\n",
    "val_pth = 'sh_dataset\\\\validation\\\\'\n",
    "\n",
    "model_name = 'model'\n",
    "\n",
    "DIR = 'models\\\\main_model_unst_pr_l1\\\\'\n",
    "\n",
    "MODEL_PATH = 'models\\\\main_model\\\\model21.pth'\n",
    "\n",
    "batch_size = 16\n",
    "\n",
    "train_ds_ecg = DatasetECG(train_pth)\n",
    "val_ds_ecg = DatasetECG(val_pth)\n",
    "\n",
    "train_loader = torch.utils.data.DataLoader(\n",
    "    train_ds_ecg, shuffle=True, \n",
    "    batch_size=batch_size, drop_last=True\n",
    ")\n",
    "\n",
    "val_loader = torch.utils.data.DataLoader(\n",
    "    val_ds_ecg, shuffle=True,\n",
    "    batch_size=batch_size, drop_last=True\n",
    ")"
   ]
  },
  {
   "cell_type": "code",
   "execution_count": 4,
   "metadata": {},
   "outputs": [
    {
     "data": {
      "text/plain": [
       "ConvNet(\n",
       "  (act): ReLU()\n",
       "  (maxpool): MaxPool2d(kernel_size=2, stride=2, padding=0, dilation=1, ceil_mode=False)\n",
       "  (conv0): Conv2d(1, 16, kernel_size=(5, 5), stride=(1, 1))\n",
       "  (conv1): Conv2d(16, 32, kernel_size=(5, 5), stride=(1, 1))\n",
       "  (conv2): Conv2d(32, 64, kernel_size=(3, 3), stride=(1, 1))\n",
       "  (conv3): Conv2d(64, 128, kernel_size=(3, 3), stride=(1, 1))\n",
       "  (linear0): Linear(in_features=15488, out_features=512, bias=True)\n",
       "  (linear1): Linear(in_features=512, out_features=128, bias=True)\n",
       "  (linear2): Linear(in_features=128, out_features=5, bias=True)\n",
       ")"
      ]
     },
     "execution_count": 4,
     "metadata": {},
     "output_type": "execute_result"
    }
   ],
   "source": [
    "model = torch.load(MODEL_PATH)\n",
    "model"
   ]
  },
  {
   "cell_type": "code",
   "execution_count": 5,
   "metadata": {},
   "outputs": [],
   "source": [
    "spars_lst = [0.1, 0.2, 0.3, 0.4, 0.5, 0.55, 0.6, 0.65, 0.7, 0.75, 0.8, 0.9, 0.95]"
   ]
  },
  {
   "cell_type": "code",
   "execution_count": 6,
   "metadata": {},
   "outputs": [],
   "source": [
    "acc_list = []"
   ]
  },
  {
   "cell_type": "code",
   "execution_count": 7,
   "metadata": {},
   "outputs": [],
   "source": [
    "device = 'cuda'"
   ]
  },
  {
   "cell_type": "code",
   "execution_count": 8,
   "metadata": {},
   "outputs": [],
   "source": [
    "for sp in spars_lst:\n",
    "    model = torch.load(MODEL_PATH)\n",
    "    for name, module in model.named_modules():\n",
    "        if isinstance(module, torch.nn.Conv2d):\n",
    "            prune.l1_unstructured(module, name='weight', amount=sp)\n",
    "        elif isinstance(module, torch.nn.Linear):\n",
    "            prune.l1_unstructured(module, name='weight', amount=sp)\n",
    "\n",
    "    correct=0\n",
    "    total=0\n",
    "\n",
    "    with torch.no_grad():\n",
    "        for data in val_loader:\n",
    "            images,labels=data[0].to(device, non_blocking=True),data[1].to(device, non_blocking=True)\n",
    "\n",
    "            outputs=model(images)\n",
    "\n",
    "            _, predicted = outputs.max(1)\n",
    "            total += labels.size(0)\n",
    "            correct += predicted.eq(labels).sum().item()\n",
    "\n",
    "    accu=100.*correct/total\n",
    "    acc_list.append(accu)\n",
    "    \n",
    "    #print(dict(new_model.named_buffers()).keys()) "
   ]
  },
  {
   "cell_type": "code",
   "execution_count": 9,
   "metadata": {},
   "outputs": [],
   "source": [
    "np.save(DIR + model_name + '_pr_acc', acc_list)"
   ]
  },
  {
   "cell_type": "code",
   "execution_count": 14,
   "metadata": {},
   "outputs": [],
   "source": [
    "def train(epoch):\n",
    "  print('\\nEpoch : %d'%epoch)\n",
    "  \n",
    "  model.train()\n",
    "\n",
    "  running_loss=0\n",
    "  correct=0\n",
    "  total=0\n",
    "\n",
    "  for data in tqdm(train_loader):\n",
    "    inputs = data[0].to(device, non_blocking=True)\n",
    "    labels=data[1].to(device, non_blocking=True)\n",
    "\n",
    "    outputs=model(inputs)\n",
    "\n",
    "    loss=loss_fn(outputs,labels)\n",
    "\n",
    "    #Replaces pow(2.0) with abs() for L1 regularization\n",
    "\n",
    "    l2_lambda = 0.001\n",
    "    l2_norm = sum(p.pow(2.0).sum()\n",
    "                  for p in model.parameters())\n",
    "\n",
    "    loss = loss + l2_lambda * l2_norm\n",
    "\n",
    "    optimizer.zero_grad()\n",
    "    loss.backward()\n",
    "    optimizer.step()\n",
    "\n",
    "    running_loss += loss.item()\n",
    "\n",
    "    _, predicted = outputs.max(1)\n",
    "    total += labels.size(0)\n",
    "    correct += predicted.eq(labels).sum().item()\n",
    "\n",
    "      \n",
    "  train_loss=running_loss/len(train_loader)\n",
    "  accu=100.*correct/total\n",
    "\n",
    "  train_accu.append(accu)\n",
    "  train_losses.append(train_loss)"
   ]
  },
  {
   "cell_type": "code",
   "execution_count": 15,
   "metadata": {},
   "outputs": [],
   "source": [
    "def test(epoch):\n",
    "  model.eval()\n",
    "\n",
    "  running_loss=0\n",
    "  correct=0\n",
    "  total=0\n",
    "\n",
    "  with torch.no_grad():\n",
    "\n",
    "    for data in tqdm(val_loader):\n",
    "      images,labels=data[0].to(device, non_blocking=True),data[1].to(device, non_blocking=True)\n",
    "\n",
    "      outputs=model(images)\n",
    "\n",
    "      loss= loss_fn(outputs,labels)\n",
    "      running_loss+=loss.item()\n",
    "\n",
    "      _, predicted = outputs.max(1)\n",
    "      total += labels.size(0)\n",
    "      correct += predicted.eq(labels).sum().item()\n",
    "\n",
    "\n",
    "  test_loss=running_loss/len(val_loader)\n",
    "  accu=100.*correct/total\n",
    "  \n",
    "  eval_losses.append(test_loss)\n",
    "  eval_accu.append(accu)"
   ]
  },
  {
   "cell_type": "code",
   "execution_count": 16,
   "metadata": {},
   "outputs": [],
   "source": [
    "ft_acc_list = []\n",
    "eval_accu = []\n"
   ]
  },
  {
   "cell_type": "code",
   "execution_count": null,
   "metadata": {},
   "outputs": [],
   "source": [
    "for sp in spars_lst[3:]:\n",
    "    model = torch.load(MODEL_PATH)\n",
    "    for name, module in model.named_modules():\n",
    "        if isinstance(module, torch.nn.Conv2d):\n",
    "            prune.l1_unstructured(module, name='weight', amount= sp)\n",
    "        elif isinstance(module, torch.nn.Linear):\n",
    "            prune.l1_unstructured(module, name='weight', amount= sp)\n",
    "            \n",
    "    train_losses=[]\n",
    "    train_accu=[]\n",
    "\n",
    "    eval_losses=[]\n",
    "    eval_accu=[]\n",
    "    max_accuracy = 0\n",
    "    loss_fn=nn.CrossEntropyLoss()\n",
    "    optimizer=optim.SGD(model.parameters(),lr=0.001,momentum=0.9)\n",
    "\n",
    "    epochs = 1\n",
    "    \n",
    "    device = 'cuda'\n",
    "    model = model.to(device)\n",
    "    loss_fn = loss_fn.to(device)\n",
    "    \n",
    "    use_amp = True\n",
    "    scaler = torch.cuda.amp.GradScaler()\n",
    "    torch.backends.cudnn.benchmark = True\n",
    "    torch.backends.cudnn.deterministic = False\n",
    "    \n",
    "    for epoch in range(1,epochs+1): \n",
    "      MOD_PTH = DIR + 'ft_' + model_name + str(int(sp*100)) + '_' + str(epoch) + '.pth'\n",
    "      D_MOD_PTH = DIR + 'd_ft_' + model_name + str(int(sp*100)) + '_' + str(epoch) + '.pth'\n",
    "      train(epoch)\n",
    "      test(epoch)\n",
    "      acc_ep = eval_accu[-1]\n",
    "\n",
    "      if acc_ep > max_accuracy:\n",
    "        max_accuracy = acc_ep    \n",
    "        torch.save(model, MOD_PTH)\n",
    "        torch.save(model.state_dict(), D_MOD_PTH)\n",
    "\n",
    "    ft_acc_list.append(max_accuracy)\n",
    "\n",
    "\n",
    "    correct=0\n",
    "    total=0\n",
    "\n",
    "    with torch.no_grad():\n",
    "        for data in val_loader:\n",
    "            images,labels=data[0].to(device, non_blocking=True),data[1].to(device, non_blocking=True)\n",
    "\n",
    "            outputs=model(images)\n",
    "\n",
    "            _, predicted = outputs.max(1)\n",
    "            total += labels.size(0)\n",
    "            correct += predicted.eq(labels).sum().item()\n",
    "\n",
    "    accu=100.*correct/total\n",
    "    acc_list1.append(accu)"
   ]
  },
  {
   "cell_type": "code",
   "execution_count": 18,
   "metadata": {},
   "outputs": [
    {
     "data": {
      "image/png": "[encoded data removed]",
      "text/plain": [
       "<Figure size 640x480 with 1 Axes>"
      ]
     },
     "metadata": {},
     "output_type": "display_data"
    }
   ],
   "source": [
    "plt.plot(spars_lst[3:], acc_list[3:],'-o')\n",
    "plt.plot(spars_lst[3:], ft_acc_list,'-o')\n",
    "plt.xlabel('spars_ratio')\n",
    "plt.ylabel('accuracy')\n",
    "plt.legend(['Pruning','Finetuning'])\n",
    "plt.title('Pruning vs Finetuning Accuracy')\n",
    "\n",
    "plt.show()"
   ]
  },
  {
   "cell_type": "code",
   "execution_count": 19,
   "metadata": {},
   "outputs": [
    {
     "data": {
      "text/plain": [
       "[98.95833333333333,\n",
       " 98.5576923076923,\n",
       " 98.5576923076923,\n",
       " 98.79807692307692,\n",
       " 98.87820512820512,\n",
       " 98.71794871794872,\n",
       " 98.5576923076923,\n",
       " 98.3173076923077,\n",
       " 98.3173076923077,\n",
       " 97.59615384615384]"
      ]
     },
     "execution_count": 19,
     "metadata": {},
     "output_type": "execute_result"
    }
   ],
   "source": [
    "ft_acc_list"
   ]
  }
 ],
 "metadata": {
  "kernelspec": {
   "display_name": "env",
   "language": "python",
   "name": "python3"
  },
  "language_info": {
   "codemirror_mode": {
    "name": "ipython",
    "version": 3
   },
   "file_extension": ".py",
   "mimetype": "text/x-python",
   "name": "python",
   "nbconvert_exporter": "python",
   "pygments_lexer": "ipython3",
   "version": "3.9.5"
  },
  "orig_nbformat": 4
 },
 "nbformat": 4,
 "nbformat_minor": 2
}
